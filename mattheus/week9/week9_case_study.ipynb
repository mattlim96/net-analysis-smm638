{
 "cells": [
  {
   "cell_type": "code",
   "execution_count": 2,
   "metadata": {},
   "outputs": [],
   "source": [
    "import pandas as pd\n",
    "import numpy as np\n",
    "import matplotlib.pyplot as plt\n",
    "import seaborn as sns\n",
    "import networkx as nx"
   ]
  },
  {
   "cell_type": "code",
   "execution_count": 5,
   "metadata": {},
   "outputs": [],
   "source": [
    "c4p_ev_threads = pd.read_csv('c4p_ev_threads.csv', index_col=0)\n",
    "c4p_spacy_output = pd.read_csv('c4p_spacy_output.csv', index_col=0)\n",
    "c4p_thread_list = pd.read_csv('c4p_thread_list.csv', index_col=0)\n",
    "c4p_threads = pd.read_csv('c4p_threads.csv', index_col=0)"
   ]
  },
  {
   "cell_type": "code",
   "execution_count": null,
   "metadata": {},
   "outputs": [],
   "source": []
  }
 ],
 "metadata": {
  "interpreter": {
   "hash": "7c98c5ea7e11fae6076d96054ec002201633200ae4af490654ed224bcbb1a139"
  },
  "kernelspec": {
   "display_name": "Python 3.8.8 64-bit ('smm638': conda)",
   "language": "python",
   "name": "python3"
  },
  "language_info": {
   "codemirror_mode": {
    "name": "ipython",
    "version": 3
   },
   "file_extension": ".py",
   "mimetype": "text/x-python",
   "name": "python",
   "nbconvert_exporter": "python",
   "pygments_lexer": "ipython3",
   "version": "3.8.8"
  },
  "orig_nbformat": 4
 },
 "nbformat": 4,
 "nbformat_minor": 2
}
